{
 "cells": [
  {
   "cell_type": "markdown",
   "metadata": {},
   "source": [
    "Pythob version"
   ]
  },
  {
   "cell_type": "code",
   "execution_count": 2,
   "metadata": {},
   "outputs": [
    {
     "name": "stdout",
     "output_type": "stream",
     "text": [
      "3.6.9 |Anaconda, Inc.| (default, Jul 30 2019, 14:00:49) [MSC v.1915 64 bit (AMD64)]\n"
     ]
    }
   ],
   "source": [
    "import sys\n",
    "\n",
    "print(sys.version)"
   ]
  },
  {
   "cell_type": "markdown",
   "metadata": {},
   "source": [
    "Capture WebCam"
   ]
  },
  {
   "cell_type": "code",
   "execution_count": 3,
   "metadata": {},
   "outputs": [],
   "source": [
    "import cv2\n",
    "import numpy as np\n",
    "from IPython import display\n",
    "from PIL import Image"
   ]
  },
  {
   "cell_type": "code",
   "execution_count": 5,
   "metadata": {
    "scrolled": false
   },
   "outputs": [
    {
     "name": "stdout",
     "output_type": "stream",
     "text": [
      "Released Video Resource from KeyboardInterrupt\n"
     ]
    }
   ],
   "source": [
    "def showVideo():\n",
    "    try:\n",
    "        cap = cv2.VideoCapture(0)\n",
    "    except:\n",
    "        print(\"Cannot Open Device\")\n",
    "    try:\n",
    "        ret, frame = cap.read()\n",
    "        \n",
    "        while(ret==True):\n",
    "            ret, frame = cap.read()\n",
    "            \n",
    "            if not ret:\n",
    "                cap.release()\n",
    "                print (\"Released Video Resource\")\n",
    "                break\n",
    "                \n",
    "            _,ret_array = cv2.imencode('.jpg', frame) \n",
    "            i = display.Image(data=ret_array)\n",
    "            display.display(i)\n",
    "            display.clear_output(wait=True)\n",
    "            \n",
    "    except KeyboardInterrupt:\n",
    "        cap.release()\n",
    "        print(\"Released Video Resource from KeyboardInterrupt\")\n",
    "        \n",
    "showVideo()\n",
    "    "
   ]
  },
  {
   "cell_type": "markdown",
   "metadata": {},
   "source": [
    "Empty image"
   ]
  },
  {
   "cell_type": "code",
   "execution_count": 5,
   "metadata": {},
   "outputs": [
    {
     "data": {
      "image/png": "[encoded data removed]",
      "text/plain": [
       "<IPython.core.display.Image object>"
      ]
     },
     "metadata": {},
     "output_type": "display_data"
    }
   ],
   "source": [
    "import numpy as np\n",
    "import cv2\n",
    "from IPython import display\n",
    "from PIL import Image\n",
    "\n",
    "img = np.zeros((120,160),np.uint8)\n",
    "_,ret_array = cv2.imencode('.jpg', img)\n",
    "i = display.Image(data=ret_array)\n",
    "display.display(i)"
   ]
  },
  {
   "cell_type": "markdown",
   "metadata": {},
   "source": [
    "image overlay "
   ]
  },
  {
   "cell_type": "code",
   "execution_count": 16,
   "metadata": {
    "scrolled": true
   },
   "outputs": [
    {
     "data": {
      "image/png": "[encoded data removed]",
      "text/plain": [
       "<IPython.core.display.Image object>"
      ]
     },
     "metadata": {},
     "output_type": "display_data"
    },
    {
     "data": {
      "image/png": "[encoded data removed]",
      "text/plain": [
       "<IPython.core.display.Image object>"
      ]
     },
     "metadata": {},
     "output_type": "display_data"
    },
    {
     "data": {
      "image/png": "[encoded data removed]",
      "text/plain": [
       "<IPython.core.display.Image object>"
      ]
     },
     "metadata": {},
     "output_type": "display_data"
    }
   ],
   "source": [
    "import numpy as np\n",
    "import cv2\n",
    "from IPython import display\n",
    "from PIL import Image\n",
    "import sys\n",
    "\n",
    "#image 120x160\n",
    "image = np.zeros((120,160),dtype=np.uint8)\n",
    "cv2.imwrite(\"image.jpg\",image)\n",
    "image=cv2.imread(\"image.jpg\", -1)\n",
    "\n",
    "#logo 60x80\n",
    "logo = np.full((60,80),150,dtype=np.uint8)\n",
    "cv2.imwrite(\"logo.jpg\",logo)\n",
    "logo=cv2.imread(\"logo.jpg\", -1)\n",
    "\n",
    "x=40\n",
    "y=30\n",
    "\n",
    "image_2 =image.copy()\n",
    "image_2[y:y+logo.shape[0], x:x+logo.shape[1]]=logo\n",
    "\n",
    "_,image = cv2.imencode('.jpg', image)\n",
    "_,logo = cv2.imencode('.jpg', logo)\n",
    "_,image_2 = cv2.imencode('.jpg', image_2)\n",
    "\n",
    "image = display.Image(data=image)\n",
    "logo = display.Image(data=logo)\n",
    "image_2 = display.Image(data=image_2)\n",
    "\n",
    "display.display(image,logo,image_2)"
   ]
  },
  {
   "cell_type": "markdown",
   "metadata": {},
   "source": [
    "Counter widget"
   ]
  },
  {
   "cell_type": "markdown",
   "metadata": {},
   "source": [
    "GUI with PyQt6"
   ]
  },
  {
   "cell_type": "code",
   "execution_count": 1,
   "metadata": {},
   "outputs": [
    {
     "ename": "SystemExit",
     "evalue": "0",
     "output_type": "error",
     "traceback": [
      "An exception has occurred, use %tb to see the full traceback.\n",
      "\u001b[1;31mSystemExit\u001b[0m\u001b[1;31m:\u001b[0m 0\n"
     ]
    },
    {
     "name": "stderr",
     "output_type": "stream",
     "text": [
      "C:\\Users\\wilso\\miniconda3\\envs\\tec\\lib\\site-packages\\IPython\\core\\interactiveshell.py:3351: UserWarning: To exit: use 'exit', 'quit', or Ctrl-D.\n",
      "  warn(\"To exit: use 'exit', 'quit', or Ctrl-D.\", stacklevel=1)\n"
     ]
    }
   ],
   "source": [
    "import sys \n",
    "from PyQt6.QtWidgets import *\n",
    "from PyQt6.QtGui import QIcon\n",
    "\n",
    "class JanelaPrincipal(QWidget):\n",
    "    def __init__(self):\n",
    "        super().__init__()\n",
    "        self.setWindowTitle('Sistema')\n",
    "        self.setWindowIcon(QIcon('logo_wilson_eletrica.jpg'))\n",
    "        self.setGeometry(150, 80, 1000, 600)\n",
    "        \n",
    "        self.show()\n",
    "        \n",
    "        \n",
    "qt = QApplication(sys.argv)\n",
    "app = JanelaPrincipal()\n",
    "sys.exit(qt.exec())"
   ]
  }
 ],
 "metadata": {
  "kernelspec": {
   "display_name": "Python 3",
   "language": "python",
   "name": "python3"
  },
  "language_info": {
   "codemirror_mode": {
    "name": "ipython",
    "version": 3
   },
   "file_extension": ".py",
   "mimetype": "text/x-python",
   "name": "python",
   "nbconvert_exporter": "python",
   "pygments_lexer": "ipython3",
   "version": "3.6.9"
  }
 },
 "nbformat": 4,
 "nbformat_minor": 4
}
